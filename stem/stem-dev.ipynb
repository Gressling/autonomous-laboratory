{
 "cells": [
  {
   "cell_type": "code",
   "execution_count": 2,
   "metadata": {},
   "outputs": [],
   "source": [
    "# https://console.hivemq.cloud/clusters/free/9b15b5bc687c4ecfb410a4fbe8df96b6/web-client\n",
    "\n",
    "import paho.mqtt.client as paho\n",
    "from paho import mqtt\n",
    "\n",
    "client = paho.Client(client_id=\"\", userdata=None, protocol=paho.MQTTv5)"
   ]
  },
  {
   "cell_type": "code",
   "execution_count": 3,
   "metadata": {},
   "outputs": [
    {
     "data": {
      "text/plain": [
       "0"
      ]
     },
     "execution_count": 3,
     "metadata": {},
     "output_type": "execute_result"
    }
   ],
   "source": [
    "client.tls_set(tls_version=mqtt.client.ssl.PROTOCOL_TLS)\n",
    "client.username_pw_set(\"cheminformatics\", input())\n",
    "client.connect(\"9b15b5bc687c4ecfb410a4fbe8df96b6.s2.eu.hivemq.cloud\", 8883)\n"
   ]
  },
  {
   "cell_type": "code",
   "execution_count": 4,
   "metadata": {},
   "outputs": [
    {
     "data": {
      "text/plain": [
       "<paho.mqtt.client.MQTTMessageInfo at 0x24242158040>"
      ]
     },
     "execution_count": 4,
     "metadata": {},
     "output_type": "execute_result"
    }
   ],
   "source": [
    "client.publish(\"test\", payload=\"Hello World!\", qos=1)"
   ]
  }
 ],
 "metadata": {
  "kernelspec": {
   "display_name": "Python 3",
   "language": "python",
   "name": "python3"
  },
  "language_info": {
   "codemirror_mode": {
    "name": "ipython",
    "version": 3
   },
   "file_extension": ".py",
   "mimetype": "text/x-python",
   "name": "python",
   "nbconvert_exporter": "python",
   "pygments_lexer": "ipython3",
   "version": "3.12.3"
  }
 },
 "nbformat": 4,
 "nbformat_minor": 2
}
